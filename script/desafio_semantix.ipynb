{
 "cells": [
  {
   "cell_type": "code",
   "execution_count": 1,
   "metadata": {},
   "outputs": [],
   "source": [
    "import os\n",
    "from pyspark.sql.types import *\n",
    "import pyspark.sql.functions as F\n",
    "import pandas as pd"
   ]
  },
  {
   "cell_type": "markdown",
   "metadata": {},
   "source": [
    "# Load dataset"
   ]
  },
  {
   "cell_type": "code",
   "execution_count": 2,
   "metadata": {
    "scrolled": true
   },
   "outputs": [],
   "source": [
    "dfs = []\n",
    "for db in [path for path in os.listdir('.') if 'NASA' in path]:\n",
    "    dfs.append(spark.read.csv(db,sep=\" \"))"
   ]
  },
  {
   "cell_type": "code",
   "execution_count": 3,
   "metadata": {},
   "outputs": [],
   "source": [
    "df = dfs[0].union(dfs[1])"
   ]
  },
  {
   "cell_type": "code",
   "execution_count": 4,
   "metadata": {
    "scrolled": true
   },
   "outputs": [
    {
     "data": {
      "text/html": [
       "<div>\n",
       "<style scoped>\n",
       "    .dataframe tbody tr th:only-of-type {\n",
       "        vertical-align: middle;\n",
       "    }\n",
       "\n",
       "    .dataframe tbody tr th {\n",
       "        vertical-align: top;\n",
       "    }\n",
       "\n",
       "    .dataframe thead th {\n",
       "        text-align: right;\n",
       "    }\n",
       "</style>\n",
       "<table border=\"1\" class=\"dataframe\">\n",
       "  <thead>\n",
       "    <tr style=\"text-align: right;\">\n",
       "      <th></th>\n",
       "      <th>_c0</th>\n",
       "      <th>_c1</th>\n",
       "      <th>_c2</th>\n",
       "      <th>_c3</th>\n",
       "      <th>_c4</th>\n",
       "      <th>_c5</th>\n",
       "      <th>_c6</th>\n",
       "      <th>_c7</th>\n",
       "    </tr>\n",
       "  </thead>\n",
       "  <tbody>\n",
       "    <tr>\n",
       "      <th>0</th>\n",
       "      <td>in24.inetnebr.com</td>\n",
       "      <td>-</td>\n",
       "      <td>-</td>\n",
       "      <td>[01/Aug/1995:00:00:01</td>\n",
       "      <td>-0400]</td>\n",
       "      <td>GET /shuttle/missions/sts-68/news/sts-68-mcc-0...</td>\n",
       "      <td>200</td>\n",
       "      <td>1839</td>\n",
       "    </tr>\n",
       "    <tr>\n",
       "      <th>1</th>\n",
       "      <td>uplherc.upl.com</td>\n",
       "      <td>-</td>\n",
       "      <td>-</td>\n",
       "      <td>[01/Aug/1995:00:00:07</td>\n",
       "      <td>-0400]</td>\n",
       "      <td>GET / HTTP/1.0</td>\n",
       "      <td>304</td>\n",
       "      <td>0</td>\n",
       "    </tr>\n",
       "    <tr>\n",
       "      <th>2</th>\n",
       "      <td>uplherc.upl.com</td>\n",
       "      <td>-</td>\n",
       "      <td>-</td>\n",
       "      <td>[01/Aug/1995:00:00:08</td>\n",
       "      <td>-0400]</td>\n",
       "      <td>GET /images/ksclogo-medium.gif HTTP/1.0</td>\n",
       "      <td>304</td>\n",
       "      <td>0</td>\n",
       "    </tr>\n",
       "    <tr>\n",
       "      <th>3</th>\n",
       "      <td>uplherc.upl.com</td>\n",
       "      <td>-</td>\n",
       "      <td>-</td>\n",
       "      <td>[01/Aug/1995:00:00:08</td>\n",
       "      <td>-0400]</td>\n",
       "      <td>GET /images/MOSAIC-logosmall.gif HTTP/1.0</td>\n",
       "      <td>304</td>\n",
       "      <td>0</td>\n",
       "    </tr>\n",
       "    <tr>\n",
       "      <th>4</th>\n",
       "      <td>uplherc.upl.com</td>\n",
       "      <td>-</td>\n",
       "      <td>-</td>\n",
       "      <td>[01/Aug/1995:00:00:08</td>\n",
       "      <td>-0400]</td>\n",
       "      <td>GET /images/USA-logosmall.gif HTTP/1.0</td>\n",
       "      <td>304</td>\n",
       "      <td>0</td>\n",
       "    </tr>\n",
       "  </tbody>\n",
       "</table>\n",
       "</div>"
      ],
      "text/plain": [
       "                 _c0 _c1 _c2                    _c3     _c4  \\\n",
       "0  in24.inetnebr.com   -   -  [01/Aug/1995:00:00:01  -0400]   \n",
       "1    uplherc.upl.com   -   -  [01/Aug/1995:00:00:07  -0400]   \n",
       "2    uplherc.upl.com   -   -  [01/Aug/1995:00:00:08  -0400]   \n",
       "3    uplherc.upl.com   -   -  [01/Aug/1995:00:00:08  -0400]   \n",
       "4    uplherc.upl.com   -   -  [01/Aug/1995:00:00:08  -0400]   \n",
       "\n",
       "                                                 _c5  _c6   _c7  \n",
       "0  GET /shuttle/missions/sts-68/news/sts-68-mcc-0...  200  1839  \n",
       "1                                     GET / HTTP/1.0  304     0  \n",
       "2            GET /images/ksclogo-medium.gif HTTP/1.0  304     0  \n",
       "3          GET /images/MOSAIC-logosmall.gif HTTP/1.0  304     0  \n",
       "4             GET /images/USA-logosmall.gif HTTP/1.0  304     0  "
      ]
     },
     "execution_count": 4,
     "metadata": {},
     "output_type": "execute_result"
    }
   ],
   "source": [
    "df.limit(5).toPandas()"
   ]
  },
  {
   "cell_type": "markdown",
   "metadata": {},
   "source": [
    "# Preprocessing"
   ]
  },
  {
   "cell_type": "code",
   "execution_count": 5,
   "metadata": {},
   "outputs": [],
   "source": [
    "df = df.drop('_c1').drop('_c2').drop('_c4')"
   ]
  },
  {
   "cell_type": "code",
   "execution_count": 6,
   "metadata": {},
   "outputs": [],
   "source": [
    "df = df.withColumnRenamed('_c0','host').withColumnRenamed('_c3','timestamp').withColumnRenamed('_c4','timezone').\\\n",
    "    withColumnRenamed('_c5','url').withColumnRenamed('_c6','http').withColumnRenamed('_c7','bytes')"
   ]
  },
  {
   "cell_type": "code",
   "execution_count": 7,
   "metadata": {
    "scrolled": true
   },
   "outputs": [],
   "source": [
    "df = df.withColumn(\"timestamp\", F.regexp_replace(F.col(\"timestamp\"), \"\\\\[\", \"\")).\\\n",
    "        withColumn(\"timestamp\", F.substring(\"timestamp\",1,11)).\\\n",
    "        withColumn(\"url\", F.regexp_replace(F.col(\"url\"), \"GET \", \"\")).\\\n",
    "        withColumn(\"url\", F.regexp_replace(F.col(\"url\"), \"HTTP/1.0\", \"\"))"
   ]
  },
  {
   "cell_type": "code",
   "execution_count": 8,
   "metadata": {},
   "outputs": [
    {
     "data": {
      "text/html": [
       "<div>\n",
       "<style scoped>\n",
       "    .dataframe tbody tr th:only-of-type {\n",
       "        vertical-align: middle;\n",
       "    }\n",
       "\n",
       "    .dataframe tbody tr th {\n",
       "        vertical-align: top;\n",
       "    }\n",
       "\n",
       "    .dataframe thead th {\n",
       "        text-align: right;\n",
       "    }\n",
       "</style>\n",
       "<table border=\"1\" class=\"dataframe\">\n",
       "  <thead>\n",
       "    <tr style=\"text-align: right;\">\n",
       "      <th></th>\n",
       "      <th>host</th>\n",
       "      <th>timestamp</th>\n",
       "      <th>url</th>\n",
       "      <th>http</th>\n",
       "      <th>bytes</th>\n",
       "    </tr>\n",
       "  </thead>\n",
       "  <tbody>\n",
       "    <tr>\n",
       "      <th>0</th>\n",
       "      <td>in24.inetnebr.com</td>\n",
       "      <td>01/Aug/1995</td>\n",
       "      <td>/shuttle/missions/sts-68/news/sts-68-mcc-05.txt</td>\n",
       "      <td>200</td>\n",
       "      <td>1839</td>\n",
       "    </tr>\n",
       "    <tr>\n",
       "      <th>1</th>\n",
       "      <td>uplherc.upl.com</td>\n",
       "      <td>01/Aug/1995</td>\n",
       "      <td>/</td>\n",
       "      <td>304</td>\n",
       "      <td>0</td>\n",
       "    </tr>\n",
       "    <tr>\n",
       "      <th>2</th>\n",
       "      <td>uplherc.upl.com</td>\n",
       "      <td>01/Aug/1995</td>\n",
       "      <td>/images/ksclogo-medium.gif</td>\n",
       "      <td>304</td>\n",
       "      <td>0</td>\n",
       "    </tr>\n",
       "    <tr>\n",
       "      <th>3</th>\n",
       "      <td>uplherc.upl.com</td>\n",
       "      <td>01/Aug/1995</td>\n",
       "      <td>/images/MOSAIC-logosmall.gif</td>\n",
       "      <td>304</td>\n",
       "      <td>0</td>\n",
       "    </tr>\n",
       "    <tr>\n",
       "      <th>4</th>\n",
       "      <td>uplherc.upl.com</td>\n",
       "      <td>01/Aug/1995</td>\n",
       "      <td>/images/USA-logosmall.gif</td>\n",
       "      <td>304</td>\n",
       "      <td>0</td>\n",
       "    </tr>\n",
       "    <tr>\n",
       "      <th>5</th>\n",
       "      <td>ix-esc-ca2-07.ix.netcom.com</td>\n",
       "      <td>01/Aug/1995</td>\n",
       "      <td>/images/launch-logo.gif</td>\n",
       "      <td>200</td>\n",
       "      <td>1713</td>\n",
       "    </tr>\n",
       "    <tr>\n",
       "      <th>6</th>\n",
       "      <td>uplherc.upl.com</td>\n",
       "      <td>01/Aug/1995</td>\n",
       "      <td>/images/WORLD-logosmall.gif</td>\n",
       "      <td>304</td>\n",
       "      <td>0</td>\n",
       "    </tr>\n",
       "    <tr>\n",
       "      <th>7</th>\n",
       "      <td>slppp6.intermind.net</td>\n",
       "      <td>01/Aug/1995</td>\n",
       "      <td>/history/skylab/skylab.html</td>\n",
       "      <td>200</td>\n",
       "      <td>1687</td>\n",
       "    </tr>\n",
       "    <tr>\n",
       "      <th>8</th>\n",
       "      <td>piweba4y.prodigy.com</td>\n",
       "      <td>01/Aug/1995</td>\n",
       "      <td>/images/launchmedium.gif</td>\n",
       "      <td>200</td>\n",
       "      <td>11853</td>\n",
       "    </tr>\n",
       "    <tr>\n",
       "      <th>9</th>\n",
       "      <td>slppp6.intermind.net</td>\n",
       "      <td>01/Aug/1995</td>\n",
       "      <td>/history/skylab/skylab-small.gif</td>\n",
       "      <td>200</td>\n",
       "      <td>9202</td>\n",
       "    </tr>\n",
       "  </tbody>\n",
       "</table>\n",
       "</div>"
      ],
      "text/plain": [
       "                          host    timestamp  \\\n",
       "0            in24.inetnebr.com  01/Aug/1995   \n",
       "1              uplherc.upl.com  01/Aug/1995   \n",
       "2              uplherc.upl.com  01/Aug/1995   \n",
       "3              uplherc.upl.com  01/Aug/1995   \n",
       "4              uplherc.upl.com  01/Aug/1995   \n",
       "5  ix-esc-ca2-07.ix.netcom.com  01/Aug/1995   \n",
       "6              uplherc.upl.com  01/Aug/1995   \n",
       "7         slppp6.intermind.net  01/Aug/1995   \n",
       "8         piweba4y.prodigy.com  01/Aug/1995   \n",
       "9         slppp6.intermind.net  01/Aug/1995   \n",
       "\n",
       "                                                url http  bytes  \n",
       "0  /shuttle/missions/sts-68/news/sts-68-mcc-05.txt   200   1839  \n",
       "1                                                /   304      0  \n",
       "2                       /images/ksclogo-medium.gif   304      0  \n",
       "3                     /images/MOSAIC-logosmall.gif   304      0  \n",
       "4                        /images/USA-logosmall.gif   304      0  \n",
       "5                          /images/launch-logo.gif   200   1713  \n",
       "6                      /images/WORLD-logosmall.gif   304      0  \n",
       "7                      /history/skylab/skylab.html   200   1687  \n",
       "8                         /images/launchmedium.gif   200  11853  \n",
       "9                 /history/skylab/skylab-small.gif   200   9202  "
      ]
     },
     "execution_count": 8,
     "metadata": {},
     "output_type": "execute_result"
    }
   ],
   "source": [
    "df.limit(10).toPandas()"
   ]
  },
  {
   "cell_type": "markdown",
   "metadata": {},
   "source": [
    "# Número de hosts únicos."
   ]
  },
  {
   "cell_type": "code",
   "execution_count": 9,
   "metadata": {},
   "outputs": [
    {
     "name": "stdout",
     "output_type": "stream",
     "text": [
      "+--------------------+-----+\n",
      "|                host|count|\n",
      "+--------------------+-----+\n",
      "|ix-sea6-23.ix.net...|   14|\n",
      "|grimnet23.idirect...|   10|\n",
      "|      ird.scitex.com|   13|\n",
      "|      163.205.166.15|  606|\n",
      "|   chrism.tmx.com.au|    4|\n",
      "| boom.marblehead.com|   27|\n",
      "|        199.3.230.80|   28|\n",
      "|  enigma.idirect.com| 1217|\n",
      "|ip26.abq-dialin.h...|    6|\n",
      "|   ppp20.coara.or.jp|   39|\n",
      "|      128.159.63.129|   24|\n",
      "|      132.170.244.49|   12|\n",
      "|   hp165.den.mmc.com|   68|\n",
      "|      128.159.143.43|  142|\n",
      "|   lib-golf.tamu.edu|  208|\n",
      "|       163.205.80.44|  460|\n",
      "|      192.195.243.61|   42|\n",
      "|   gigi.jpl.nasa.gov|    8|\n",
      "|     dyna-53.bart.nl|   12|\n",
      "|       164.116.78.80|   29|\n",
      "+--------------------+-----+\n",
      "only showing top 20 rows\n",
      "\n"
     ]
    }
   ],
   "source": [
    "df.groupBy('host').count().show()"
   ]
  },
  {
   "cell_type": "code",
   "execution_count": 10,
   "metadata": {},
   "outputs": [
    {
     "name": "stdout",
     "output_type": "stream",
     "text": [
      "Númedo de hosts únicos - 137979\n"
     ]
    }
   ],
   "source": [
    "print \"Númedo de hosts únicos - {}\".format(df.groupBy('host').count().count())"
   ]
  },
  {
   "cell_type": "markdown",
   "metadata": {},
   "source": [
    "# O total de erros 404."
   ]
  },
  {
   "cell_type": "code",
   "execution_count": 11,
   "metadata": {},
   "outputs": [
    {
     "name": "stdout",
     "output_type": "stream",
     "text": [
      "Total de erros 404 - 20871\n"
     ]
    }
   ],
   "source": [
    "print \"Total de erros 404 - {}\".format(df.filter(F.col('http') == '404').count())"
   ]
  },
  {
   "cell_type": "markdown",
   "metadata": {},
   "source": [
    "# Os 5 URLs que mais causaram erro 404."
   ]
  },
  {
   "cell_type": "code",
   "execution_count": 12,
   "metadata": {},
   "outputs": [],
   "source": [
    "status_nf = df.filter(F.col('http')=='404').cache()"
   ]
  },
  {
   "cell_type": "code",
   "execution_count": 13,
   "metadata": {},
   "outputs": [
    {
     "name": "stdout",
     "output_type": "stream",
     "text": [
      "+---------------------------------------------+-----+\n",
      "|url                                          |count|\n",
      "+---------------------------------------------+-----+\n",
      "|/pub/winvn/readme.txt                        |2004 |\n",
      "|/pub/winvn/release.txt                       |1732 |\n",
      "|/shuttle/missions/STS-69/mission-STS-69.html |682  |\n",
      "|/shuttle/missions/sts-68/ksc-upclose.gif     |426  |\n",
      "|/history/apollo/a-001/a-001-patch-small.gif  |384  |\n",
      "+---------------------------------------------+-----+\n",
      "only showing top 5 rows\n",
      "\n"
     ]
    }
   ],
   "source": [
    "status_nf.groupby('url').count().orderBy(F.col('count').desc()).show(5,False)"
   ]
  },
  {
   "cell_type": "markdown",
   "metadata": {},
   "source": [
    "# Quantidade de erros 404 por dia"
   ]
  },
  {
   "cell_type": "code",
   "execution_count": 14,
   "metadata": {},
   "outputs": [
    {
     "name": "stdout",
     "output_type": "stream",
     "text": [
      "+-----------+-----+\n",
      "|  timestamp|count|\n",
      "+-----------+-----+\n",
      "|02/Jul/1995|  291|\n",
      "|21/Aug/1995|  305|\n",
      "|06/Aug/1995|  373|\n",
      "|16/Jul/1995|  257|\n",
      "|07/Aug/1995|  537|\n",
      "|11/Aug/1995|  263|\n",
      "|27/Jul/1995|  336|\n",
      "|07/Jul/1995|  569|\n",
      "|17/Jul/1995|  406|\n",
      "|15/Jul/1995|  254|\n",
      "|18/Jul/1995|  465|\n",
      "|26/Jul/1995|  336|\n",
      "|03/Aug/1995|  303|\n",
      "|18/Aug/1995|  256|\n",
      "|17/Aug/1995|  271|\n",
      "|14/Aug/1995|  287|\n",
      "|10/Jul/1995|  398|\n",
      "|04/Jul/1995|  359|\n",
      "|20/Aug/1995|  312|\n",
      "|20/Jul/1995|  428|\n",
      "+-----------+-----+\n",
      "only showing top 20 rows\n",
      "\n"
     ]
    }
   ],
   "source": [
    "status_nf.groupBy(F.col('timestamp')).count().show()"
   ]
  },
  {
   "cell_type": "code",
   "execution_count": 15,
   "metadata": {},
   "outputs": [
    {
     "name": "stdout",
     "output_type": "stream",
     "text": [
      "Foram encontrados 58 ocorrências de erro 404 por dia\n"
     ]
    }
   ],
   "source": [
    "print 'Foram encontrados {} ocorrências de erro 404 por dia'.format(status_nf.groupBy(F.col('timestamp')).count().count())"
   ]
  },
  {
   "cell_type": "markdown",
   "metadata": {},
   "source": [
    "# O total de bytes retornados"
   ]
  },
  {
   "cell_type": "code",
   "execution_count": 16,
   "metadata": {},
   "outputs": [
    {
     "name": "stdout",
     "output_type": "stream",
     "text": [
      "Retornaram - 65524319796.0 bytes\n"
     ]
    }
   ],
   "source": [
    "print \"Retornaram - {} bytes\".format(df.select(F.sum('bytes')).take(1)[0][0])"
   ]
  }
 ],
 "metadata": {
  "kernelspec": {
   "display_name": "Python 2",
   "language": "python",
   "name": "python2"
  },
  "language_info": {
   "codemirror_mode": {
    "name": "ipython",
    "version": 2
   },
   "file_extension": ".py",
   "mimetype": "text/x-python",
   "name": "python",
   "nbconvert_exporter": "python",
   "pygments_lexer": "ipython2",
   "version": "2.7.13"
  }
 },
 "nbformat": 4,
 "nbformat_minor": 2
}
